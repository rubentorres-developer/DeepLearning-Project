{
 "cells": [
  {
   "cell_type": "markdown",
   "metadata": {},
   "source": [
    "# Deep Learning - Project\n",
    "\n",
    "## Parking Space Detection\n",
    "\n",
    "### Group 02"
   ]
  },
  {
   "cell_type": "markdown",
   "metadata": {},
   "source": [
    "# 0. Imports & Global Constants"
   ]
  },
  {
   "cell_type": "code",
   "execution_count": null,
   "metadata": {},
   "outputs": [],
   "source": [
    "import os\n",
    "import shutil\n",
    "import xml.etree.ElementTree as ET\n",
    "\n",
    "ORIGINAL_DATASET_PATH = \"./datasets/original\"\n",
    "TRANSFORMED_DATASET_PATH = \"./datasets/transformed\"\n",
    "TRAINING_DATASET_PATH = \"./datasets/training\"\n",
    "VALIDATION_DATASET_PATH = \"./datasets/validation\"\n",
    "TESTING_DATASET_PATH = \"./datasets/testing\"\n",
    "\n",
    "TRAINING_RATIO = 0.8\n",
    "VALIDATION_RATIO = 0.1\n",
    "TESTING_RATIO = 0.1\n",
    "\n",
    "GITKEEP = '.gitkeep'\n",
    "\n",
    "IMAGE_WIDTH = 1280\n",
    "IMAGE_HEIGHT = 720\n",
    "\n",
    "CLASS_MAPPING = {\"0\": 0, \"1\": 1}"
   ]
  },
  {
   "cell_type": "markdown",
   "metadata": {},
   "source": [
    "# 1. Data Pipeline\n",
    "\n",
    "# 1.1. Transforming\n",
    "\n",
    "First we start by transforming our original dataset"
   ]
  },
  {
   "cell_type": "code",
   "execution_count": null,
   "metadata": {},
   "outputs": [],
   "source": [
    "for root, _, files in os.walk(ORIGINAL_DATASET_PATH):\n",
    "    for file in files:\n",
    "        source_file_path = os.path.join(root, file)\n",
    "        destination_file_path = os.path.join(TRANSFORMED_DATASET_PATH, file)\n",
    "        shutil.move(source_file_path, destination_file_path)"
   ]
  },
  {
   "cell_type": "markdown",
   "metadata": {},
   "source": [
    "## 1.2. Create the Labels\n",
    "\n",
    "We'll convert the labels from XML to TXT"
   ]
  },
  {
   "cell_type": "code",
   "execution_count": null,
   "metadata": {},
   "outputs": [],
   "source": [
    "xml_files = [f for f in os.listdir(TRANSFORMED_DATASET_PATH) if f.endswith(\".xml\")]\n",
    "\n",
    "print(xml_files)\n",
    "\n",
    "for xml_file in xml_files:\n",
    "    xml_path = os.path.join(TRANSFORMED_DATASET_PATH, xml_file)\n",
    "    print(xml_path)\n",
    "\n",
    "    tree = ET.parse(xml_path)\n",
    "    root = tree.getroot()\n",
    "\n",
    "    txt_filename = os.path.splitext(xml_file)[0] + \".txt\"\n",
    "    txt_path = os.path.join(TRANSFORMED_DATASET_PATH, txt_filename)\n",
    "    print(txt_filename)\n",
    "    print(txt_path)\n",
    "    with open(txt_path, \"w\") as txt_file:\n",
    "        for space in root.findall(\"space\"):\n",
    "            occupied = space.get(\"occupied\")\n",
    "            class_index = CLASS_MAPPING.get(occupied, -1)\n",
    "            \n",
    "            if class_index == -1:\n",
    "                continue\n",
    "            \n",
    "            rotated_rect = space.find(\"rotatedRect\")\n",
    "            center = rotated_rect.find(\"center\")\n",
    "            size = rotated_rect.find(\"size\")\n",
    "            \n",
    "            center_x = float(center.get(\"x\"))\n",
    "            center_y = float(center.get(\"y\"))\n",
    "            width = float(size.get(\"w\"))\n",
    "            height = float(size.get(\"h\"))\n",
    "            \n",
    "            x_center = center_x / IMAGE_WIDTH\n",
    "            y_center = center_y / IMAGE_HEIGHT\n",
    "            w = width / IMAGE_WIDTH\n",
    "            h = height / IMAGE_HEIGHT\n",
    "            \n",
    "            txt_file.write(f\"{class_index} {x_center:.6f} {y_center:.6f} {w:.6f} {h:.6f}\\n\")\n",
    "        new_xml_path = os.path.join(TRANSFORMED_DATASET_PATH, xml_file)\n",
    "        print(new_xml_path)\n",
    "    os.remove(xml_path)\n"
   ]
  },
  {
   "cell_type": "markdown",
   "metadata": {},
   "source": [
    "# Train Test Split"
   ]
  },
  {
   "cell_type": "code",
   "execution_count": null,
   "metadata": {},
   "outputs": [],
   "source": [
    "image_files = [f for f in os.listdir(TRANSFORMED_DATASET_PATH) if f.endswith(\".jpg\")]\n",
    "print(image_files)\n",
    "\n",
    "# num_samples = len(image_files)\n",
    "# num_train = int(train_ratio * num_samples)\n",
    "# num_test = int(test_ratio * num_samples)\n",
    "# num_val = num_samples - num_train - num_test"
   ]
  }
 ],
 "metadata": {
  "kernelspec": {
   "display_name": "Python 3",
   "language": "python",
   "name": "python3"
  },
  "language_info": {
   "codemirror_mode": {
    "name": "ipython",
    "version": 3
   },
   "file_extension": ".py",
   "mimetype": "text/x-python",
   "name": "python",
   "nbconvert_exporter": "python",
   "pygments_lexer": "ipython3",
   "version": "3.12.3"
  }
 },
 "nbformat": 4,
 "nbformat_minor": 2
}
